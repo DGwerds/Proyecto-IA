{
  "cells": [
    {
      "cell_type": "markdown",
      "source": [
        "# **Modelo de deteccion de estado de semaforos para ayudar a personas invidentes**"
      ],
      "metadata": {
        "id": "vJwSXJU9xSSa"
      }
    },
    {
      "cell_type": "markdown",
      "source": [
        "###INTEGRANTES\n",
        "\n",
        "Cesar Enrique Rojas Hernandez - 2191952\n",
        "\n",
        "Santiago Andres Delgado Quiceno - 211799\n",
        "\n",
        "Mariana Robayo Nieto - 2195092"
      ],
      "metadata": {
        "id": "GBq8TM_tx8B3"
      }
    },
    {
      "cell_type": "code",
      "source": [
        "#@title Introduccion { display-mode: \"form\" }\n",
        "from IPython.display import Image, display\n",
        "url = \"https://2.bp.blogspot.com/-Lz6hTiQT5LM/XCXD4kM7CqI/AAAAAAAACp4/\\\n",
        "gtenbm5odpQNPkaczgCJ8nMN8NJFF18iwCLcBGAs/s1600/jumilla-instalara-semaforos-para-invidentes.jpg\"\n",
        "display(Image(url=url))"
      ],
      "metadata": {
        "id": "V4mTA013yGjj"
      },
      "execution_count": null,
      "outputs": []
    },
    {
      "cell_type": "markdown",
      "source": [
        "El problema de autonomía para las personas invidentes al desplazarse por las calles radica en la falta de conciencia de los conductores y la dificultad para conocer el estado de los semáforos. Esto pone en riesgo su seguridad y limita su movilidad. Para abordar esta situación, se propone desarrollar un modelo de inteligencia artificial que aprenda a detectar el estado de los semáforos y proporcione indicaciones a las personas invidentes, permitiéndoles cruzar de manera más segura y autónoma."
      ],
      "metadata": {
        "id": "uDsxZcsTyZ6j"
      }
    },
    {
      "cell_type": "code",
      "execution_count": null,
      "metadata": {
        "id": "hdh07nBptcUv"
      },
      "outputs": [],
      "source": [
        "#@title { display-mode: \"form\" }\n",
        "!mkdir input/\n",
        "!mkdir input/sartorius_cell_instance_segmentation\n",
        "!kaggle datasets download -d santiagodelgado646/semaforos\n",
        "!unzip /content/semaforos.zip\n",
        "!rm /content/semaforos.zip\n",
        "!rm /content/semaforos.zip"
      ]
    },
    {
      "cell_type": "code",
      "source": [
        "from sklearn.model_selection import train_test_split, cross_val_score, KFold\n",
        "from sklearn.ensemble import RandomForestClassifier\n",
        "from sklearn.metrics import classification_report\n",
        "from sklearn.tree import DecisionTreeClassifier\n",
        "from sklearn.naive_bayes import GaussianNB\n",
        "import matplotlib.pyplot as plt\n",
        "from tqdm.notebook import tqdm\n",
        "from tensorflow import keras\n",
        "from sklearn.svm import SVC\n",
        "import tensorflow as tf\n",
        "from PIL import Image\n",
        "import numpy as np\n",
        "import time\n",
        "import cv2\n",
        "import os"
      ],
      "metadata": {
        "id": "BMUpBXbeMW9f"
      },
      "execution_count": null,
      "outputs": []
    },
    {
      "cell_type": "code",
      "source": [
        "red_dir = \"Semaforos rojos\"\n",
        "green_dir = \"Semaforos verdes\"\n",
        "img_size = (128, 128)  # Tamaño de imagen deseado\n",
        "\n",
        "red_images_resized = []\n",
        "for filename in tqdm(os.listdir(red_dir)):\n",
        "    img = cv2.imread(os.path.join(red_dir, filename))\n",
        "    img = cv2.cvtColor(img, cv2.COLOR_BGR2RGB)\n",
        "    resized_img = cv2.resize(img, img_size)\n",
        "    red_images_resized.append(resized_img)\n",
        "\n",
        "green_images_resized = []\n",
        "for filename in tqdm(os.listdir(green_dir)):\n",
        "    img = cv2.imread(os.path.join(green_dir, filename))\n",
        "    img = cv2.cvtColor(img, cv2.COLOR_BGR2RGB)\n",
        "    resized_img = cv2.resize(img, img_size)\n",
        "    green_images_resized.append(resized_img)\n"
      ],
      "metadata": {
        "id": "YxI2r3YWMazX"
      },
      "execution_count": null,
      "outputs": []
    },
    {
      "cell_type": "code",
      "source": [
        "both = np.concatenate((red_images_resized, green_images_resized), axis=0)\n",
        "index_red_image = np.random.randint(0, len(both)-1)\n",
        "print(index_red_image)\n",
        "plt.imshow(both[index_red_image], interpolation='nearest')\n",
        "plt.show()"
      ],
      "metadata": {
        "id": "DNuhA0LOZ4Of"
      },
      "execution_count": null,
      "outputs": []
    },
    {
      "cell_type": "markdown",
      "metadata": {
        "id": "vumEILbCCAS3"
      },
      "source": [
        "# **Generar imagenes \"superpuestas\"**"
      ]
    },
    {
      "cell_type": "code",
      "execution_count": null,
      "metadata": {
        "id": "HJqmHXlHzYkP"
      },
      "outputs": [],
      "source": [
        "# @title Imagen promedio de muestras de semaforos rojos { display-mode: \"form\" }\n",
        "# Superponer las imagenes una encima de la otra con una opacidad del 0.1\n",
        "alpha = 0.1\n",
        "average_red_img: np.ndarray = 0\n",
        "average_green_img: np.ndarray = 0\n",
        "\n",
        "for i in tqdm(red_images_resized):\n",
        "  img = Image.fromarray(i)\n",
        "  img_array = np.array(img)[:, :, :3]\n",
        "  average_red_img += alpha * img_array\n",
        "\n",
        "for i in tqdm(green_images_resized):\n",
        "  img = Image.fromarray(i)\n",
        "  img_array = np.array(img)[:, :, :3]\n",
        "  average_green_img += alpha * img_array\n",
        "\n",
        "\n",
        "def fix_avg_img(average_img: np.ndarray) -> np.ndarray:\n",
        "  a = 255 / (average_img.max() - average_img.min())\n",
        "  b = -a * average_img.min()\n",
        "  average_img = (a * average_img + b).astype(np.uint8)\n",
        "  return average_img\n",
        "\n",
        "fig, axes = plt.subplots(1, 2, figsize=(9, 7))\n",
        "axes[0].imshow(fix_avg_img(average_red_img))\n",
        "axes[1].imshow(fix_avg_img(average_green_img))\n",
        "plt.show()"
      ]
    },
    {
      "cell_type": "markdown",
      "metadata": {
        "id": "aE76JuD0hdY2"
      },
      "source": [
        "# **Entrenamiento de estimadores**"
      ]
    },
    {
      "cell_type": "code",
      "source": [
        "# @title Listar datos { display-mode: \"form\" }\n",
        "red_labels = np.zeros(len(red_images_resized))\n",
        "green_labels = np.ones(len(green_images_resized))\n",
        "y = np.concatenate((red_labels, green_labels), axis=0)\n",
        "X = np.concatenate((red_images_resized, green_images_resized), axis=0)\n",
        "\n",
        "X_train, X_test, y_train, y_test = train_test_split(X, y, test_size=0.1,\n",
        "                                                    random_state=42,\n",
        "                                                    shuffle=True)\n",
        "\n",
        "X_train_norm = [(image - np.mean(image)) / np.std(image) for image in X_train]\n",
        "X_test_norm = [(image - np.mean(image)) / np.std(image) for image in X_train]\n",
        "flat_X_train = np.array(X_train_norm).reshape(len(X_train_norm), -1)\n",
        "flat_X_test = np.array(X_test_norm).reshape(len(X_test_norm), -1)"
      ],
      "metadata": {
        "id": "tKPxawIPMilJ"
      },
      "execution_count": null,
      "outputs": []
    },
    {
      "cell_type": "code",
      "execution_count": null,
      "metadata": {
        "id": "KuXyvZarUJga"
      },
      "outputs": [],
      "source": [
        "model = SVC(kernel= 'linear')\n",
        "inicio = time.time()\n",
        "model.fit(flat_X_train, y_train)\n",
        "print(f\"Precisión del clasificador '{model.__class__.__name__}':\")\n",
        "print(f\"Tiempo: {time.time()-inicio}\")\n",
        "predictions = model.predict(flat_X_test)\n",
        "print(classification_report(predictions, y_test))"
      ]
    },
    {
      "cell_type": "code",
      "source": [
        "def graficar(numero_imagenes: int, predicciones, X_test, y_test):\n",
        "  random_indices = np.random.choice(len(X_test), size=numero_imagenes**2, replace=False)\n",
        "  # random_indices = np.random.choice(len(X_test), size=num_images, replace=False)\n",
        "\n",
        "  # fig, axes = plt.subplots(1, num_images, figsize=(15, 10))\n",
        "  fig, axes = plt.subplots(numero_imagenes, numero_imagenes, figsize=(15, 10))\n",
        "\n",
        "  for i, index in enumerate(random_indices):\n",
        "      image = X_test[index]\n",
        "      prediction = predictions[index]\n",
        "      label = y_test[index]\n",
        "\n",
        "      title = 'Predicción: Verde' if prediction > 0.5 else 'Predicción: Rojo'\n",
        "      title_color = 'green' if (prediction > 0.5 and label == 1) or (prediction <= 0.5 and label == 0) else 'red'\n",
        "\n",
        "      ax = axes[i // numero_imagenes, i % numero_imagenes]\n",
        "      # ax = axes[i]\n",
        "      ax.imshow(image)\n",
        "      ax.set_title(title, fontdict={\"fontsize\": 16}, color=title_color)\n",
        "      ax.axis('off')\n",
        "\n",
        "  plt.tight_layout()\n",
        "  plt.show()"
      ],
      "metadata": {
        "id": "wk0BQ7mMvdsN"
      },
      "execution_count": null,
      "outputs": []
    },
    {
      "cell_type": "markdown",
      "source": [
        "# **Test 1**"
      ],
      "metadata": {
        "id": "gkwl3DCiivOo"
      }
    },
    {
      "cell_type": "code",
      "source": [
        "X = None\n",
        "data_dir = None\n",
        "filename = None\n",
        "green_dir = None\n",
        "green_images_normalized = None\n",
        "green_images_resized = None\n",
        "green_labels = None\n",
        "img = None\n",
        "img_size = None\n",
        "indices = None\n",
        "red_dir = None\n",
        "red_images_normalized = None\n",
        "red_images_resized = None\n",
        "red_labels = None\n",
        "resized_img = None\n",
        "url = None\n",
        "y = None"
      ],
      "metadata": {
        "id": "BwtHV6vxTkg1"
      },
      "execution_count": null,
      "outputs": []
    },
    {
      "cell_type": "code",
      "source": [
        "model = None\n",
        "model = keras.Sequential([\n",
        "    keras.layers.Rescaling(1./255, input_shape=X_train[0].shape),\n",
        "    keras.layers.Conv2D(128, (4, 4), activation='relu'),\n",
        "    keras.layers.MaxPooling2D((4, 4)),\n",
        "    keras.layers.Conv2D(64, (3, 3), activation='relu'),\n",
        "    keras.layers.MaxPooling2D((3, 3)),\n",
        "    keras.layers.Conv2D(32, (2, 2), activation='relu'),\n",
        "    keras.layers.MaxPooling2D((2, 2)),\n",
        "    keras.layers.Flatten(),\n",
        "    keras.layers.Dense(32, activation='relu'),\n",
        "    keras.layers.Dense(1, activation='sigmoid')\n",
        "])\n",
        "\n",
        "model.compile(optimizer='adam', loss='binary_crossentropy',\n",
        "              metrics=['accuracy'])\n"
      ],
      "metadata": {
        "id": "BHw-A6Stwll9"
      },
      "execution_count": null,
      "outputs": []
    },
    {
      "cell_type": "code",
      "source": [
        "model.fit(X_train, y_train, epochs=15, batch_size=16, validation_data=(X_test, y_test))"
      ],
      "metadata": {
        "id": "BZtWtXWXwll_"
      },
      "execution_count": null,
      "outputs": []
    },
    {
      "cell_type": "code",
      "source": [
        "predictions = model.predict(X_test)\n",
        "graficar(4, predictions, X_test, y_test)\n",
        "test_loss, test_acc = model.evaluate(X_test, y_test)\n",
        "print('Test accuracy:', test_acc)"
      ],
      "metadata": {
        "id": "m2JlhH99TJtY"
      },
      "execution_count": null,
      "outputs": []
    }
  ],
  "metadata": {
    "accelerator": "GPU",
    "colab": {
      "provenance": [],
      "gpuType": "T4",
      "private_outputs": true
    },
    "kernelspec": {
      "display_name": "Python 3",
      "name": "python3"
    },
    "language_info": {
      "name": "python"
    }
  },
  "nbformat": 4,
  "nbformat_minor": 0
}